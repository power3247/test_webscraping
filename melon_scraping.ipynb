{
 "cells": [
  {
   "cell_type": "code",
   "execution_count": 1,
   "metadata": {},
   "outputs": [],
   "source": [
    "from selenium import webdriver"
   ]
  },
  {
   "cell_type": "code",
   "execution_count": 3,
   "metadata": {},
   "outputs": [
    {
     "name": "stdout",
     "output_type": "stream",
     "text": [
      " C 드라이브의 볼륨에는 이름이 없습니다.\n",
      " 볼륨 일련 번호: 70FE-DA3D\n",
      "\n",
      " C:\\Develops\\test_webscraping 디렉터리\n",
      "\n",
      "2021-06-08  오전 11:07        11,107,328 chromedriver.exe\n",
      "               1개 파일          11,107,328 바이트\n",
      "               0개 디렉터리  31,801,872,384 바이트 남음\n"
     ]
    }
   ],
   "source": [
    "!dir .\\chromedriver.exe"
   ]
  },
  {
   "cell_type": "code",
   "execution_count": 4,
   "metadata": {},
   "outputs": [
    {
     "name": "stdout",
     "output_type": "stream",
     "text": [
      "On branch main\n",
      "Your branch is up to date with 'origin/main'.\n",
      "\n",
      "Untracked files:\n",
      "  (use \"git add <file>...\" to include in what will be committed)\n",
      "\tUntitled.ipynb\n",
      "\n",
      "nothing added to commit but untracked files present (use \"git add\" to track)\n"
     ]
    }
   ],
   "source": [
    "!git status"
   ]
  },
  {
   "cell_type": "code",
   "execution_count": 6,
   "metadata": {},
   "outputs": [],
   "source": [
    "browser = webdriver.Chrome('./chromedriver.exe')"
   ]
  },
  {
   "cell_type": "code",
   "execution_count": 8,
   "metadata": {},
   "outputs": [],
   "source": [
    "browser.get('http://www.melon.com/chart/index.htm')"
   ]
  },
  {
   "cell_type": "code",
   "execution_count": 10,
   "metadata": {},
   "outputs": [],
   "source": [
    "html = browser.page_source"
   ]
  },
  {
   "cell_type": "code",
   "execution_count": 12,
   "metadata": {},
   "outputs": [],
   "source": [
    "from bs4 import BeautifulSoup as bs"
   ]
  },
  {
   "cell_type": "code",
   "execution_count": 14,
   "metadata": {},
   "outputs": [],
   "source": [
    "soup = bs(html, 'html.parser')"
   ]
  },
  {
   "cell_type": "code",
   "execution_count": 15,
   "metadata": {},
   "outputs": [],
   "source": [
    "tags = soup.select('span > a')"
   ]
  },
  {
   "cell_type": "code",
   "execution_count": 17,
   "metadata": {},
   "outputs": [
    {
     "data": {
      "text/plain": [
       "(211, bs4.element.ResultSet)"
      ]
     },
     "execution_count": 17,
     "metadata": {},
     "output_type": "execute_result"
    }
   ],
   "source": [
    "len(tags) , type(tags)"
   ]
  },
  {
   "cell_type": "code",
   "execution_count": 19,
   "metadata": {},
   "outputs": [],
   "source": [
    "tag = tags[0]"
   ]
  },
  {
   "cell_type": "code",
   "execution_count": 21,
   "metadata": {},
   "outputs": [
    {
     "data": {
      "text/plain": [
       "'Next Level'"
      ]
     },
     "execution_count": 21,
     "metadata": {},
     "output_type": "execute_result"
    }
   ],
   "source": [
    "tag.text"
   ]
  },
  {
   "cell_type": "code",
   "execution_count": 23,
   "metadata": {},
   "outputs": [
    {
     "data": {
      "text/plain": [
       "'Next Level 재생'"
      ]
     },
     "execution_count": 23,
     "metadata": {},
     "output_type": "execute_result"
    }
   ],
   "source": [
    "tag['title']"
   ]
  },
  {
   "cell_type": "code",
   "execution_count": 25,
   "metadata": {
    "collapsed": true
   },
   "outputs": [
    {
     "name": "stdout",
     "output_type": "stream",
     "text": [
      "<a href=\"javascript:melon.play.playSong('19030101',33487342);\" title=\"Next Level 재생\">Next Level</a>\n",
      "<a href=\"javascript:melon.link.goArtistDetail('2899555');\" title=\"aespa - 페이지 이동\">aespa</a>\n",
      "<a href=\"javascript:melon.play.playSong('19030101',33507137);\" title=\"Butter 재생\">Butter</a>\n",
      "<a href=\"javascript:melon.link.goArtistDetail('672375');\" title=\"방탄소년단 - 페이지 이동\">방탄소년단</a>\n",
      "<a href=\"javascript:melon.play.playSong('19030101',33503722);\" title=\"헤픈 우연 재생\">헤픈 우연</a>\n",
      "<a href=\"javascript:melon.link.goArtistDetail('751611');\" title=\"헤이즈 (Heize) - 페이지 이동\">헤이즈 (Heize)</a>\n",
      "<a href=\"javascript:melon.play.playSong('19030101',33589260);\" title=\"치맛바람 (Chi Mat Ba Ram) 재생\">치맛바람 (Chi Mat Ba Ram)</a>\n",
      "<a href=\"javascript:melon.link.goArtistDetail('531700');\" title=\"브레이브걸스 - 페이지 이동\">브레이브걸스</a>\n",
      "<a href=\"javascript:melon.play.playSong('19030101',33464805);\" title=\"Dun Dun Dance 재생\">Dun Dun Dance</a>\n",
      "<a href=\"javascript:melon.link.goArtistDetail('857994');\" title=\"오마이걸 (OH MY GIRL) - 페이지 이동\">오마이걸 (OH MY GIRL)</a>\n",
      "<a href=\"javascript:melon.play.playSong('19030101',33359317);\" title=\"Peaches (Feat. Daniel Caesar &amp; Giveon) 재생\">Peaches (Feat. Daniel Caesar &amp; Giveon)</a>\n",
      "<a href=\"javascript:melon.link.goArtistDetail('420621');\" title=\"Justin Bieber - 페이지 이동\">Justin Bieber</a>\n",
      "<a href=\"javascript:melon.play.playSong('19030101',30287019);\" title=\"롤린 (Rollin') 재생\">롤린 (Rollin')</a>\n",
      "<a href=\"javascript:melon.link.goArtistDetail('531700');\" title=\"브레이브걸스 - 페이지 이동\">브레이브걸스</a>\n",
      "<a href=\"javascript:melon.play.playSong('19030101',33559180);\" title=\"Alcohol-Free 재생\">Alcohol-Free</a>\n",
      "<a href=\"javascript:melon.link.goArtistDetail('905701');\" title=\"TWICE (트와이스) - 페이지 이동\">TWICE (트와이스)</a>\n",
      "<a href=\"javascript:melon.play.playSong('19030101',33372781);\" title=\"라일락 재생\">라일락</a>\n",
      "<a href=\"javascript:melon.link.goArtistDetail('261143');\" title=\"아이유 - 페이지 이동\">아이유</a>\n",
      "<a href=\"javascript:melon.play.playSong('19030101',33397561);\" title=\"ASAP 재생\">ASAP</a>\n",
      "<a href=\"javascript:melon.link.goArtistDetail('2899290');\" title=\"STAYC(스테이씨) - 페이지 이동\">STAYC(스테이씨)</a>\n",
      "<a href=\"javascript:melon.play.playSong('19030101',32860397);\" title=\"운전만해 (We Ride) 재생\">운전만해 (We Ride)</a>\n",
      "<a href=\"javascript:melon.link.goArtistDetail('531700');\" title=\"브레이브걸스 - 페이지 이동\">브레이브걸스</a>\n",
      "<a href=\"javascript:melon.play.playSong('19030101',32872978);\" title=\"Dynamite 재생\">Dynamite</a>\n",
      "<a href=\"javascript:melon.link.goArtistDetail('672375');\" title=\"방탄소년단 - 페이지 이동\">방탄소년단</a>\n",
      "<a href=\"javascript:melon.play.playSong('19030101',33239419);\" title=\"Celebrity 재생\">Celebrity</a>\n",
      "<a href=\"javascript:melon.link.goArtistDetail('261143');\" title=\"아이유 - 페이지 이동\">아이유</a>\n",
      "<a href=\"javascript:melon.play.playSong('19030101',33527705);\" title=\"안녕 (Hello) 재생\">안녕 (Hello)</a>\n",
      "<a href=\"javascript:melon.link.goArtistDetail('780922');\" title=\"조이 (JOY) - 페이지 이동\">조이 (JOY)</a>\n",
      "<a href=\"javascript:melon.play.playSong('19030101',33589488);\" title=\"비와 당신 재생\">비와 당신</a>\n",
      "<a href=\"javascript:melon.link.goArtistDetail('2138620');\" title=\"이무진 - 페이지 이동\">이무진</a>\n",
      "<a href=\"javascript:melon.play.playSong('19030101',33510307);\" title=\"상상더하기 재생\">상상더하기</a>\n",
      "<a href=\"javascript:melon.link.goArtistDetail('2939206');\" title=\"MSG워너비 TOP 8 (별루지, 김정수, 강창모, 정기석, 이동휘, 이상이, 박재정, 원슈타인) - 페이지 이동\">MSG워너비 TOP 8 (별루지, 김정수, 강창모, 정기석, 이동휘, 이상이, 박재정, 원슈타인)</a>\n",
      "<a href=\"javascript:melon.play.playSong('19030101',8130796);\" title=\"상상더하기 재생\">상상더하기</a>\n",
      "<a href=\"javascript:melon.link.goArtistDetail('783462');\" title=\"라붐 (LABOUM) - 페이지 이동\">라붐 (LABOUM)</a>\n",
      "<a href=\"javascript:melon.play.playSong('19030101',33359725);\" title=\"사이렌 Remix (Feat. UNEDUCATED KID, Paul Blanco) 재생\">사이렌 Remix (Feat. UNEDUCATED KID, Paul Blanco)</a>\n",
      "<a href=\"javascript:melon.link.goArtistDetail('2754623');\" title=\"호미들 - 페이지 이동\">호미들</a>\n",
      "<a href=\"javascript:melon.play.playSong('19030101',1944399);\" title=\"Timeless 재생\">Timeless</a>\n",
      "<a href=\"javascript:melon.link.goArtistDetail('108363');\" title=\"SG 워너비 - 페이지 이동\">SG 워너비</a>\n",
      "<a href=\"javascript:melon.play.playSong('19030101',3414749);\" title=\"내 손을 잡아 재생\">내 손을 잡아</a>\n",
      "<a href=\"javascript:melon.link.goArtistDetail('261143');\" title=\"아이유 - 페이지 이동\">아이유</a>\n",
      "<a href=\"javascript:melon.play.playSong('19030101',33315511);\" title=\"멜로디 재생\">멜로디</a>\n",
      "<a href=\"javascript:melon.link.goArtistDetail('2112495');\" title=\"ASH ISLAND - 페이지 이동\">ASH ISLAND</a>\n",
      "<a href=\"javascript:melon.play.playSong('19030101',33167063);\" title=\"밝게 빛나는 별이 되어 비춰줄게 재생\">밝게 빛나는 별이 되어 비춰줄게</a>\n",
      "<a href=\"javascript:melon.link.goArtistDetail('2189536');\" title=\"송이한 - 페이지 이동\">송이한</a>\n",
      "<a href=\"javascript:melon.play.playSong('19030101',33480898);\" title=\"신호등 재생\">신호등</a>\n",
      "<a href=\"javascript:melon.link.goArtistDetail('2138620');\" title=\"이무진 - 페이지 이동\">이무진</a>\n",
      "<a href=\"javascript:melon.play.playSong('19030101',33447280);\" title=\"마.피.아. In the morning 재생\">마.피.아. In the morning</a>\n",
      "<a href=\"javascript:melon.link.goArtistDetail('2622030');\" title=\"ITZY (있지) - 페이지 이동\">ITZY (있지)</a>\n",
      "<a href=\"javascript:melon.play.playSong('19030101',1854856);\" title=\"라라라 재생\">라라라</a>\n",
      "<a href=\"javascript:melon.link.goArtistDetail('108363');\" title=\"SG 워너비 - 페이지 이동\">SG 워너비</a>\n",
      "<a href=\"javascript:melon.play.playSong('19030101',33331004);\" title=\"LOVE DAY (2021) (바른연애 길잡이 X 양요섭, 정은지) 재생\">LOVE DAY (2021) (바른연애 길잡이 X 양요섭, 정은지)</a>\n",
      "<a href=\"javascript:melon.link.goArtistDetail('510565');\" title=\"양요섭 - 페이지 이동\">양요섭</a>\n",
      "<a href=\"javascript:melon.link.goArtistDetail('644871');\" title=\"정은지 - 페이지 이동\">정은지</a>\n",
      "<a href=\"javascript:melon.play.playSong('19030101',33061995);\" title=\"밤하늘의 별을(2020) 재생\">밤하늘의 별을(2020)</a>\n",
      "<a href=\"javascript:melon.link.goArtistDetail('994005');\" title=\"경서 - 페이지 이동\">경서</a>\n",
      "<a href=\"javascript:melon.play.playSong('19030101',32962258);\" title=\"Savage Love (Laxed - Siren Beat) (BTS Remix) 재생\">Savage Love (Laxed - Siren Beat) (BTS Remix)</a>\n",
      "<a href=\"javascript:melon.link.goArtistDetail('2868396');\" title=\"Jawsh 685 - 페이지 이동\">Jawsh 685</a>\n",
      "<a href=\"javascript:melon.link.goArtistDetail('432140');\" title=\"Jason Derulo - 페이지 이동\">Jason Derulo</a>\n",
      "<a href=\"javascript:melon.link.goArtistDetail('672375');\" title=\"방탄소년단 - 페이지 이동\">방탄소년단</a>\n",
      "<a href=\"javascript:melon.play.playSong('19030101',32961718);\" title=\"Lovesick Girls 재생\">Lovesick Girls</a>\n",
      "<a href=\"javascript:melon.link.goArtistDetail('995169');\" title=\"BLACKPINK - 페이지 이동\">BLACKPINK</a>\n",
      "<a href=\"javascript:melon.play.playSong('19030101',33372783);\" title=\"Coin 재생\">Coin</a>\n",
      "<a href=\"javascript:melon.link.goArtistDetail('261143');\" title=\"아이유 - 페이지 이동\">아이유</a>\n",
      "<a href=\"javascript:melon.play.playSong('19030101',32559782);\" title=\"Dolphin 재생\">Dolphin</a>\n",
      "<a href=\"javascript:melon.link.goArtistDetail('857994');\" title=\"오마이걸 (OH MY GIRL) - 페이지 이동\">오마이걸 (OH MY GIRL)</a>\n",
      "<a href=\"javascript:melon.play.playSong('19030101',33013877);\" title=\"잠이 오질 않네요 재생\">잠이 오질 않네요</a>\n",
      "<a href=\"javascript:melon.link.goArtistDetail('648551');\" title=\"장범준 - 페이지 이동\">장범준</a>\n",
      "<a href=\"javascript:melon.play.playSong('19030101',1500196);\" title=\"내사람 재생\">내사람</a>\n",
      "<a href=\"javascript:melon.link.goArtistDetail('108363');\" title=\"SG 워너비 - 페이지 이동\">SG 워너비</a>\n",
      "<a href=\"javascript:melon.play.playSong('19030101',32578498);\" title=\"에잇(Prod.&amp;Feat. SUGA of BTS) 재생\">에잇(Prod.&amp;Feat. SUGA of BTS)</a>\n",
      "<a href=\"javascript:melon.link.goArtistDetail('261143');\" title=\"아이유 - 페이지 이동\">아이유</a>\n",
      "<a href=\"javascript:melon.play.playSong('19030101',32491274);\" title=\"아로하 재생\">아로하</a>\n",
      "<a href=\"javascript:melon.link.goArtistDetail('253606');\" title=\"조정석 - 페이지 이동\">조정석</a>\n",
      "<a href=\"javascript:melon.play.playSong('19030101',31737197);\" title=\"작은 것들을 위한 시 (Boy With Luv) (Feat. Halsey) 재생\">작은 것들을 위한 시 (Boy With Luv) (Feat. Halsey)</a>\n",
      "<a href=\"javascript:melon.link.goArtistDetail('672375');\" title=\"방탄소년단 - 페이지 이동\">방탄소년단</a>\n",
      "<a href=\"javascript:melon.play.playSong('19030101',32794652);\" title=\"취기를 빌려 (취향저격 그녀 X 산들) 재생\">취기를 빌려 (취향저격 그녀 X 산들)</a>\n",
      "<a href=\"javascript:melon.link.goArtistDetail('672392');\" title=\"산들 - 페이지 이동\">산들</a>\n",
      "<a href=\"javascript:melon.play.playSong('19030101',32183386);\" title=\"Blueming 재생\">Blueming</a>\n",
      "<a href=\"javascript:melon.link.goArtistDetail('261143');\" title=\"아이유 - 페이지 이동\">아이유</a>\n",
      "<a href=\"javascript:melon.play.playSong('19030101',33346446);\" title=\"On The Ground 재생\">On The Ground</a>\n",
      "<a href=\"javascript:melon.link.goArtistDetail('995171');\" title=\"로제 (ROSÉ) - 페이지 이동\">로제 (ROSÉ)</a>\n",
      "<a href=\"javascript:melon.play.playSong('19030101',32061975);\" title=\"어떻게 이별까지 사랑하겠어, 널 사랑하는 거지 재생\">어떻게 이별까지 사랑하겠어, 널 사랑하는 거지</a>\n",
      "<a href=\"javascript:melon.link.goArtistDetail('712452');\" title=\"AKMU (악동뮤지션) - 페이지 이동\">AKMU (악동뮤지션)</a>\n",
      "<a href=\"javascript:melon.play.playSong('19030101',33248758);\" title=\"추억은 만남보다 이별에 남아 재생\">추억은 만남보다 이별에 남아</a>\n",
      "<a href=\"javascript:melon.link.goArtistDetail('181188');\" title=\"정동하 - 페이지 이동\">정동하</a>\n",
      "<a href=\"javascript:melon.play.playSong('19030101',33372788);\" title=\"어푸 (Ah puh) 재생\">어푸 (Ah puh)</a>\n",
      "<a href=\"javascript:melon.link.goArtistDetail('261143');\" title=\"아이유 - 페이지 이동\">아이유</a>\n",
      "<a href=\"javascript:melon.play.playSong('19030101',33077590);\" title=\"VVS (Feat. JUSTHIS) (Prod. GroovyRoom) 재생\">VVS (Feat. JUSTHIS) (Prod. GroovyRoom)</a>\n",
      "<a href=\"javascript:melon.link.goArtistDetail('2866523');\" title=\"미란이 (Mirani) - 페이지 이동\">미란이 (Mirani)</a>\n",
      "<a href=\"javascript:melon.link.goArtistDetail('2747971');\" title=\"먼치맨(MUNCHMAN) - 페이지 이동\">먼치맨(MUNCHMAN)</a>\n",
      "<a href=\"javascript:melon.link.goArtistDetail('1703507');\" title=\"Khundi Panda - 페이지 이동\">Khundi Panda</a>\n",
      "<a href=\"javascript:melon.link.goArtistDetail('2745413');\" title=\"머쉬베놈 (MUSHVENOM) - 페이지 이동\">머쉬베놈 (MUSHVENOM)</a>\n",
      "<a href=\"javascript:melon.play.playSong('19030101',33359309);\" title=\"Off My Face 재생\">Off My Face</a>\n",
      "<a href=\"javascript:melon.link.goArtistDetail('420621');\" title=\"Justin Bieber - 페이지 이동\">Justin Bieber</a>\n",
      "<a href=\"javascript:melon.play.playSong('19030101',33077234);\" title=\"Life Goes On 재생\">Life Goes On</a>\n",
      "<a href=\"javascript:melon.link.goArtistDetail('672375');\" title=\"방탄소년단 - 페이지 이동\">방탄소년단</a>\n",
      "<a href=\"javascript:melon.play.playSong('19030101',33011180);\" title=\"나랑 같이 걸을래 (바른연애 길잡이 X 적재) 재생\">나랑 같이 걸을래 (바른연애 길잡이 X 적재)</a>\n",
      "<a href=\"javascript:melon.link.goArtistDetail('771375');\" title=\"적재 - 페이지 이동\">적재</a>\n",
      "<a href=\"javascript:melon.play.playSong('19030101',33107649);\" title=\"그날에 나는 맘이 편했을까 재생\">그날에 나는 맘이 편했을까</a>\n",
      "<a href=\"javascript:melon.link.goArtistDetail('718655');\" title=\"이예준 - 페이지 이동\">이예준</a>\n",
      "<a href=\"javascript:melon.play.playSong('19030101',30244931);\" title=\"봄날 재생\">봄날</a>\n",
      "<a href=\"javascript:melon.link.goArtistDetail('672375');\" title=\"방탄소년단 - 페이지 이동\">방탄소년단</a>\n",
      "<a href=\"javascript:melon.play.playSong('19030101',31509376);\" title=\"12:45 (Stripped) 재생\">12:45 (Stripped)</a>\n",
      "<a href=\"javascript:melon.link.goArtistDetail('1907334');\" title=\"Etham - 페이지 이동\">Etham</a>\n",
      "<a href=\"javascript:melon.play.playSong('19030101',31029291);\" title=\"2002 재생\">2002</a>\n",
      "<a href=\"javascript:melon.link.goArtistDetail('870307');\" title=\"Anne-Marie - 페이지 이동\">Anne-Marie</a>\n",
      "<a href=\"javascript:melon.play.playSong('19030101',32003395);\" title=\"흔들리는 꽃들 속에서 네 샴푸향이 느껴진거야 재생\">흔들리는 꽃들 속에서 네 샴푸향이 느껴진거야</a>\n",
      "<a href=\"javascript:melon.link.goArtistDetail('648551');\" title=\"장범준 - 페이지 이동\">장범준</a>\n",
      "<a href=\"javascript:melon.play.playSong('19030101',32224272);\" title=\"METEOR 재생\">METEOR</a>\n",
      "<a href=\"javascript:melon.link.goArtistDetail('774900');\" title=\"창모 (CHANGMO) - 페이지 이동\">창모 (CHANGMO)</a>\n",
      "<a href=\"javascript:melon.play.playSong('19030101',30962526);\" title=\"모든 날, 모든 순간 (Every day, Every Moment) 재생\">모든 날, 모든 순간 (Every day, Every Moment)</a>\n",
      "<a href=\"javascript:melon.link.goArtistDetail('752425');\" title=\"폴킴 - 페이지 이동\">폴킴</a>\n",
      "<a href=\"javascript:melon.play.playSong('19030101',33405149);\" title=\"그냥 안아달란 말야 재생\">그냥 안아달란 말야</a>\n",
      "<a href=\"javascript:melon.link.goArtistDetail('236815');\" title=\"다비치 - 페이지 이동\">다비치</a>\n",
      "<a href=\"javascript:melon.play.playSong('19030101',3894276);\" title=\"오래된 노래 재생\">오래된 노래</a>\n",
      "<a href=\"javascript:melon.link.goArtistDetail('467880');\" title=\"스탠딩 에그 - 페이지 이동\">스탠딩 에그</a>\n",
      "<a href=\"javascript:melon.play.playSong('19030101',32224166);\" title=\"너의 번호를 누르고 (Prod. 영화처럼) 재생\">너의 번호를 누르고 (Prod. 영화처럼)</a>\n",
      "<a href=\"javascript:melon.link.goArtistDetail('1024489');\" title=\"#안녕 - 페이지 이동\">#안녕</a>\n",
      "<a href=\"javascript:melon.play.playSong('19030101',32559781);\" title=\"살짝 설렜어 (Nonstop) 재생\">살짝 설렜어 (Nonstop)</a>\n",
      "<a href=\"javascript:melon.link.goArtistDetail('857994');\" title=\"오마이걸 (OH MY GIRL) - 페이지 이동\">오마이걸 (OH MY GIRL)</a>\n",
      "<a href=\"javascript:melon.play.playSong('19030101',32438894);\" title=\"어떻게 지내 (Prod. By VAN.C) 재생\">어떻게 지내 (Prod. By VAN.C)</a>\n",
      "<a href=\"javascript:melon.link.goArtistDetail('925515');\" title=\"오반 (OVAN) - 페이지 이동\">오반 (OVAN)</a>\n",
      "<a href=\"javascript:melon.play.playSong('19030101',32055419);\" title=\"Memories 재생\">Memories</a>\n",
      "<a href=\"javascript:melon.link.goArtistDetail('107721');\" title=\"Maroon 5 - 페이지 이동\">Maroon 5</a>\n",
      "<a href=\"javascript:melon.play.playSong('19030101',33229299);\" title=\"이 밤을 빌려 말해요 (바른연애 길잡이 X 10CM) 재생\">이 밤을 빌려 말해요 (바른연애 길잡이 X 10CM)</a>\n",
      "<a href=\"javascript:melon.link.goArtistDetail('468244');\" title=\"10CM - 페이지 이동\">10CM</a>\n",
      "<a href=\"javascript:melon.play.playSong('19030101',31853557);\" title=\"오늘도 빛나는 너에게 (To You My Light) (Feat.이라온) 재생\">오늘도 빛나는 너에게 (To You My Light) (Feat.이라온)</a>\n",
      "<a href=\"javascript:melon.link.goArtistDetail('566431');\" title=\"마크툽 (MAKTUB) - 페이지 이동\">마크툽 (MAKTUB)</a>\n",
      "<a href=\"javascript:melon.play.playSong('19030101',32525311);\" title=\"사실 나는 (Feat.전건호) 재생\">사실 나는 (Feat.전건호)</a>\n",
      "<a href=\"javascript:melon.link.goArtistDetail('2863470');\" title=\"경서예지 - 페이지 이동\">경서예지</a>\n",
      "<a href=\"javascript:melon.play.playSong('19030101',32156286);\" title=\"늦은 밤 너의 집 앞 골목길에서 재생\">늦은 밤 너의 집 앞 골목길에서</a>\n",
      "<a href=\"javascript:melon.link.goArtistDetail('105623');\" title=\"노을 - 페이지 이동\">노을</a>\n",
      "<a href=\"javascript:melon.play.playSong('19030101',32720013);\" title=\"How You Like That 재생\">How You Like That</a>\n",
      "<a href=\"javascript:melon.link.goArtistDetail('995169');\" title=\"BLACKPINK - 페이지 이동\">BLACKPINK</a>\n",
      "<a href=\"javascript:melon.play.playSong('19030101',33571535);\" title=\"추적이는 여름 비가 되어 재생\">추적이는 여름 비가 되어</a>\n",
      "<a href=\"javascript:melon.link.goArtistDetail('648551');\" title=\"장범준 - 페이지 이동\">장범준</a>\n",
      "<a href=\"javascript:melon.play.playSong('19030101',32998018);\" title=\"힘든 건 사랑이 아니다 재생\">힘든 건 사랑이 아니다</a>\n",
      "<a href=\"javascript:melon.link.goArtistDetail('1142');\" title=\"임창정 - 페이지 이동\">임창정</a>\n",
      "<a href=\"javascript:melon.play.playSong('19030101',33572275);\" title=\"오늘따라 더 미운 그대가 재생\">오늘따라 더 미운 그대가</a>\n",
      "<a href=\"javascript:melon.link.goArtistDetail('979724');\" title=\"전상근 - 페이지 이동\">전상근</a>\n",
      "<a href=\"javascript:melon.play.playSong('19030101',33510308);\" title=\"체념 재생\">체념</a>\n",
      "<a href=\"javascript:melon.link.goArtistDetail('2939210');\" title=\"정상동기 (김정수, 정기석, 이동휘, 이상이) - 페이지 이동\">정상동기 (김정수, 정기석, 이동휘, 이상이)</a>\n",
      "<a href=\"javascript:melon.play.playSong('19030101',33347390);\" title=\"이렇게 좋아해 본 적이 없어요 재생\">이렇게 좋아해 본 적이 없어요</a>\n",
      "<a href=\"javascript:melon.link.goArtistDetail('597191');\" title=\"CHEEZE (치즈) - 페이지 이동\">CHEEZE (치즈)</a>\n",
      "<a href=\"javascript:melon.play.playSong('19030101',711626);\" title=\"살다가 재생\">살다가</a>\n",
      "<a href=\"javascript:melon.link.goArtistDetail('108363');\" title=\"SG 워너비 - 페이지 이동\">SG 워너비</a>\n",
      "<a href=\"javascript:melon.play.playSong('19030101',31979846);\" title=\"Dance Monkey 재생\">Dance Monkey</a>\n",
      "<a href=\"javascript:melon.link.goArtistDetail('2742009');\" title=\"Tones And I - 페이지 이동\">Tones And I</a>\n",
      "<a href=\"javascript:melon.play.playSong('19030101',33618271);\" title=\"하루만 더 재생\">하루만 더</a>\n",
      "<a href=\"javascript:melon.link.goArtistDetail('105803');\" title=\"빅마마 - 페이지 이동\">빅마마</a>\n",
      "<a href=\"javascript:melon.play.playSong('19030101',33601086);\" title=\"허리춤 재생\">허리춤</a>\n",
      "<a href=\"javascript:melon.link.goArtistDetail('925515');\" title=\"오반 (OVAN) - 페이지 이동\">오반 (OVAN)</a>\n",
      "<a href=\"javascript:melon.play.playSong('19030101',33496587);\" title=\"다정히 내 이름을 부르면 재생\">다정히 내 이름을 부르면</a>\n",
      "<a href=\"javascript:melon.link.goArtistDetail('2863470');\" title=\"경서예지 - 페이지 이동\">경서예지</a>\n",
      "<a href=\"javascript:melon.link.goArtistDetail('2739011');\" title=\"전건호 - 페이지 이동\">전건호</a>\n",
      "<a href=\"javascript:melon.play.playSong('19030101',33439096);\" title=\"너의 발걸음에 빛을 비춰줄게 (Prod. 조영수) 재생\">너의 발걸음에 빛을 비춰줄게 (Prod. 조영수)</a>\n",
      "<a href=\"javascript:melon.link.goArtistDetail('858125');\" title=\"케이시 (Kassy) - 페이지 이동\">케이시 (Kassy)</a>\n",
      "<a href=\"javascript:melon.play.playSong('19030101',32508053);\" title=\"이제 나만 믿어요 재생\">이제 나만 믿어요</a>\n",
      "<a href=\"javascript:melon.link.goArtistDetail('994944');\" title=\"임영웅 - 페이지 이동\">임영웅</a>\n",
      "<a href=\"javascript:melon.play.playSong('19030101',32378104);\" title=\"마음을 드려요 재생\">마음을 드려요</a>\n",
      "<a href=\"javascript:melon.link.goArtistDetail('261143');\" title=\"아이유 - 페이지 이동\">아이유</a>\n",
      "<a href=\"javascript:melon.play.playSong('19030101',32143487);\" title=\"Love poem 재생\">Love poem</a>\n",
      "<a href=\"javascript:melon.link.goArtistDetail('261143');\" title=\"아이유 - 페이지 이동\">아이유</a>\n",
      "<a href=\"javascript:melon.play.playSong('19030101',31341518);\" title=\"Paris In The Rain 재생\">Paris In The Rain</a>\n",
      "<a href=\"javascript:melon.link.goArtistDetail('1956543');\" title=\"Lauv - 페이지 이동\">Lauv</a>\n",
      "<a href=\"javascript:melon.play.playSong('19030101',31388145);\" title=\"너를 만나 재생\">너를 만나</a>\n",
      "<a href=\"javascript:melon.link.goArtistDetail('752425');\" title=\"폴킴 - 페이지 이동\">폴킴</a>\n",
      "<a href=\"javascript:melon.play.playSong('19030101',32871975);\" title=\"내 마음이 움찔했던 순간 (취향저격 그녀 X 규현) 재생\">내 마음이 움찔했던 순간 (취향저격 그녀 X 규현)</a>\n",
      "<a href=\"javascript:melon.link.goArtistDetail('205880');\" title=\"규현 (KYUHYUN) - 페이지 이동\">규현 (KYUHYUN)</a>\n",
      "<a href=\"javascript:melon.play.playSong('19030101',33372787);\" title=\"아이와 나의 바다 재생\">아이와 나의 바다</a>\n",
      "<a href=\"javascript:melon.link.goArtistDetail('261143');\" title=\"아이유 - 페이지 이동\">아이유</a>\n",
      "<a href=\"javascript:melon.play.playSong('19030101',32853712);\" title=\"When We Disco (Duet with 선미) 재생\">When We Disco (Duet with 선미)</a>\n",
      "<a href=\"javascript:melon.link.goArtistDetail('1130');\" title=\"박진영 - 페이지 이동\">박진영</a>\n",
      "<a href=\"javascript:melon.play.playSong('19030101',33164083);\" title=\"우린 어쩌다 헤어진 걸까 재생\">우린 어쩌다 헤어진 걸까</a>\n",
      "<a href=\"javascript:melon.link.goArtistDetail('28801');\" title=\"허각 - 페이지 이동\">허각</a>\n",
      "<a href=\"javascript:melon.play.playSong('19030101',32187544);\" title=\"우리 왜 헤어져야 해 재생\">우리 왜 헤어져야 해</a>\n",
      "<a href=\"javascript:melon.link.goArtistDetail('2740042');\" title=\"신예영 - 페이지 이동\">신예영</a>\n",
      "<a href=\"javascript:melon.play.playSong('19030101',32345931);\" title=\"시작 재생\">시작</a>\n",
      "<a href=\"javascript:melon.link.goArtistDetail('13494');\" title=\"가호 (Gaho) - 페이지 이동\">가호 (Gaho)</a>\n",
      "<a href=\"javascript:melon.play.playSong('19030101',32137576);\" title=\"Don't Start Now 재생\">Don't Start Now</a>\n",
      "<a href=\"javascript:melon.link.goArtistDetail('889721');\" title=\"Dua Lipa - 페이지 이동\">Dua Lipa</a>\n",
      "<a href=\"javascript:melon.play.playSong('19030101',33260801);\" title=\"고백 (바른연애 길잡이 X 허각) 재생\">고백 (바른연애 길잡이 X 허각)</a>\n",
      "<a href=\"javascript:melon.link.goArtistDetail('28801');\" title=\"허각 - 페이지 이동\">허각</a>\n",
      "<a href=\"javascript:melon.play.playSong('19030101',30773554);\" title=\"Downtown Baby 재생\">Downtown Baby</a>\n",
      "<a href=\"javascript:melon.link.goArtistDetail('980594');\" title=\"블루 (BLOO) - 페이지 이동\">블루 (BLOO)</a>\n",
      "<a href=\"javascript:melon.play.playSong('19030101',32122539);\" title=\"Maniac 재생\">Maniac</a>\n",
      "<a href=\"javascript:melon.link.goArtistDetail('2398189');\" title=\"Conan Gray - 페이지 이동\">Conan Gray</a>\n",
      "<a href=\"javascript:melon.play.playSong('19030101',33508682);\" title=\"If You Love Me (Feat. 주헌 (몬스타엑스)) 재생\">If You Love Me (Feat. 주헌 (몬스타엑스))</a>\n",
      "<a href=\"javascript:melon.link.goArtistDetail('433746');\" title=\"NS 윤지 - 페이지 이동\">NS 윤지</a>\n",
      "<a href=\"javascript:melon.play.playSong('19030101',33594897);\" title=\"Ready to love 재생\">Ready to love</a>\n",
      "<a href=\"javascript:melon.link.goArtistDetail('861436');\" title=\"세븐틴 - 페이지 이동\">세븐틴</a>\n",
      "<a href=\"javascript:melon.play.playSong('19030101',33295747);\" title=\"함께 했는데 이별은 나 혼자인 거야 재생\">함께 했는데 이별은 나 혼자인 거야</a>\n",
      "<a href=\"javascript:melon.link.goArtistDetail('661792');\" title=\"소정 (레이디스 코드) - 페이지 이동\">소정 (레이디스 코드)</a>\n",
      "<a href=\"javascript:melon.play.playSong('19030101',31984204);\" title=\"안녕 재생\">안녕</a>\n",
      "<a href=\"javascript:melon.link.goArtistDetail('752425');\" title=\"폴킴 - 페이지 이동\">폴킴</a>\n",
      "<a href=\"javascript:melon.play.playSong('19030101',33430095);\" title=\"기다릴게 재생\">기다릴게</a>\n",
      "<a href=\"javascript:melon.link.goArtistDetail('43806');\" title=\"하동균 - 페이지 이동\">하동균</a>\n",
      "<a href=\"javascript:melon.link.goArtistDetail('500423');\" title=\"봉구 - 페이지 이동\">봉구</a>\n",
      "<a href=\"javascript:melon.play.playSong('19030101',33372784);\" title=\"봄 안녕 봄 재생\">봄 안녕 봄</a>\n",
      "<a href=\"javascript:melon.link.goArtistDetail('261143');\" title=\"아이유 - 페이지 이동\">아이유</a>\n",
      "<a href=\"javascript:melon.play.playSong('19030101',32777869);\" title=\"거짓말이라도 해서 널 보고싶어 재생\">거짓말이라도 해서 널 보고싶어</a>\n",
      "<a href=\"javascript:melon.link.goArtistDetail('1118');\" title=\"백지영 - 페이지 이동\">백지영</a>\n",
      "<a href=\"javascript:melon.play.playSong('19030101',33115807);\" title=\"내일이 오면 (Feat. 기리보이, BIG Naughty (서동현)) 재생\">내일이 오면 (Feat. 기리보이, BIG Naughty (서동현))</a>\n",
      "<a href=\"javascript:melon.link.goArtistDetail('623251');\" title=\"릴보이 (lIlBOI) - 페이지 이동\">릴보이 (lIlBOI)</a>\n",
      "<a href=\"javascript:melon.play.playSong('19030101',33456218);\" title=\"맛 (Hot Sauce) 재생\">맛 (Hot Sauce)</a>\n",
      "<a href=\"javascript:melon.link.goArtistDetail('1066419');\" title=\"NCT DREAM - 페이지 이동\">NCT DREAM</a>\n",
      "<a href=\"javascript:melon.play.playSong('19030101',33476728);\" title=\"서울의 잠 못 이루는 밤 (Feat. 이수현) 재생\">서울의 잠 못 이루는 밤 (Feat. 이수현)</a>\n",
      "<a href=\"javascript:melon.link.goArtistDetail('468244');\" title=\"10CM - 페이지 이동\">10CM</a>\n",
      "<a class=\"btn_arrow\" href=\"http://www.ftc.go.kr/bizCommPop.do?wrkr_no=1208147521&amp;apv_perm_no=2012651005630200009\" target=\"_blank\" title=\"사업자정보확인\">사업자정보확인</a>\n",
      "<a class=\"btn_footer_mail\" href=\"mailto:melon_info@kakaocorp.com\">melon_info@kakaocorp.com</a>\n",
      "<a class=\"btn_footer_mail\" href=\"//www.kakaocorp.com/\" target=\"_blank\">© Kakao Corp.</a>\n"
     ]
    }
   ],
   "source": [
    "for tag in tags:\n",
    "    print(tag)"
   ]
  },
  {
   "cell_type": "code",
   "execution_count": null,
   "metadata": {},
   "outputs": [],
   "source": []
  },
  {
   "cell_type": "code",
   "execution_count": null,
   "metadata": {},
   "outputs": [],
   "source": []
  },
  {
   "cell_type": "code",
   "execution_count": null,
   "metadata": {},
   "outputs": [],
   "source": []
  },
  {
   "cell_type": "code",
   "execution_count": null,
   "metadata": {},
   "outputs": [],
   "source": []
  }
 ],
 "metadata": {
  "kernelspec": {
   "display_name": "Python 3",
   "language": "python",
   "name": "python3"
  },
  "language_info": {
   "codemirror_mode": {
    "name": "ipython",
    "version": 3
   },
   "file_extension": ".py",
   "mimetype": "text/x-python",
   "name": "python",
   "nbconvert_exporter": "python",
   "pygments_lexer": "ipython3",
   "version": "3.8.5"
  }
 },
 "nbformat": 4,
 "nbformat_minor": 4
}
