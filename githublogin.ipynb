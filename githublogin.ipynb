{
 "cells": [
  {
   "cell_type": "code",
   "execution_count": 3,
   "metadata": {},
   "outputs": [],
   "source": [
    "from selenium import webdriver\n"
   ]
  },
  {
   "cell_type": "code",
   "execution_count": 2,
   "metadata": {},
   "outputs": [],
   "source": [
    "browser = webdriver.Chrome('./chromedriver.exe')\n",
    "browser.get('https://github.com/login')"
   ]
  },
  {
   "cell_type": "markdown",
   "metadata": {},
   "source": [
    "id : input#login_field, pw : input#password, button : input[type=\"submit\"]\n"
   ]
  },
  {
   "cell_type": "code",
   "execution_count": 5,
   "metadata": {},
   "outputs": [],
   "source": [
    "import time\n",
    "time.sleep(3)\n",
    "browser.find_element_by_css_selector\\\n",
    "('input#login_field').send_keys(\"posmane5@gmail.com\")\n",
    "\n",
    "browser.find_element_by_css_selector\\\n",
    "('input#password').send_keys(\"afds\")\n",
    "\n",
    "browser.find_element_by_css_selector\\\n",
    "('input[type=\"submit\"]').click()\n",
    "\n",
    "\n"
   ]
  },
  {
   "cell_type": "code",
   "execution_count": null,
   "metadata": {},
   "outputs": [],
   "source": []
  }
 ],
 "metadata": {
  "kernelspec": {
   "display_name": "Python 3",
   "language": "python",
   "name": "python3"
  },
  "language_info": {
   "codemirror_mode": {
    "name": "ipython",
    "version": 3
   },
   "file_extension": ".py",
   "mimetype": "text/x-python",
   "name": "python",
   "nbconvert_exporter": "python",
   "pygments_lexer": "ipython3",
   "version": "3.8.5"
  }
 },
 "nbformat": 4,
 "nbformat_minor": 4
}
